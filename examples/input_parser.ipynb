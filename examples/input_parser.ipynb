{
 "cells": [
  {
   "cell_type": "code",
   "execution_count": 1,
   "metadata": {},
   "outputs": [],
   "source": [
    "import mcnpy"
   ]
  },
  {
   "cell_type": "code",
   "execution_count": 2,
   "metadata": {},
   "outputs": [],
   "source": [
    "filename = '/home/MONLEON-JUAN/MCNPy/tests/data/PERT.i'\n",
    "\n",
    "input = mcnpy.read_mcnp(filename)"
   ]
  },
  {
   "cell_type": "code",
   "execution_count": null,
   "metadata": {},
   "outputs": [
    {
     "data": {
      "text/plain": [
       "[221,\n",
       " 226,\n",
       " 231,\n",
       " 236,\n",
       " 241,\n",
       " 246,\n",
       " 251,\n",
       " 256,\n",
       " 261,\n",
       " 266,\n",
       " 271,\n",
       " 276,\n",
       " 281,\n",
       " 286,\n",
       " 291,\n",
       " 296,\n",
       " 301,\n",
       " 306,\n",
       " 311,\n",
       " 316,\n",
       " 321,\n",
       " 326,\n",
       " 331,\n",
       " 336,\n",
       " 341,\n",
       " 346,\n",
       " 351,\n",
       " 356,\n",
       " 361,\n",
       " 366,\n",
       " 371,\n",
       " 376,\n",
       " 381,\n",
       " 386,\n",
       " 391,\n",
       " 396,\n",
       " 401,\n",
       " 406,\n",
       " 411,\n",
       " 416,\n",
       " 421,\n",
       " 426,\n",
       " 431,\n",
       " 436]"
      ]
     },
     "execution_count": 8,
     "metadata": {},
     "output_type": "execute_result"
    }
   ],
   "source": [
    "dicc = input.pert.group_perts_by_reaction(2)\n",
    "dicc[2]"
   ]
  },
  {
   "cell_type": "code",
   "execution_count": null,
   "metadata": {},
   "outputs": [
    {
     "data": {
      "text/plain": [
       "[1e-11,\n",
       " 3e-09,\n",
       " 7.5e-09,\n",
       " 1e-08,\n",
       " 2.53e-08,\n",
       " 3e-08,\n",
       " 4e-08,\n",
       " 5e-08,\n",
       " 7e-08,\n",
       " 1e-07,\n",
       " 1.5e-07,\n",
       " 2e-07,\n",
       " 2.25e-07,\n",
       " 2.5e-07,\n",
       " 2.75e-07,\n",
       " 3.25e-07,\n",
       " 3.5e-07,\n",
       " 3.75e-07,\n",
       " 4e-07,\n",
       " 6.25e-07,\n",
       " 1e-06,\n",
       " 1.77e-06,\n",
       " 3e-06,\n",
       " 4.75e-06,\n",
       " 6e-06,\n",
       " 8.1e-06,\n",
       " 1e-05,\n",
       " 3e-05,\n",
       " 0.0001,\n",
       " 0.00055,\n",
       " 0.003,\n",
       " 0.017,\n",
       " 0.025,\n",
       " 0.1,\n",
       " 0.4,\n",
       " 0.9,\n",
       " 1.4,\n",
       " 1.85,\n",
       " 2.354,\n",
       " 2.479,\n",
       " 3.0,\n",
       " 4.8,\n",
       " 6.434,\n",
       " 8.1873,\n",
       " 20.0]"
      ]
     },
     "execution_count": 9,
     "metadata": {},
     "output_type": "execute_result"
    }
   ],
   "source": [
    "input.pert.pert_energies\n"
   ]
  }
 ],
 "metadata": {
  "kernelspec": {
   "display_name": "mcnpy-qKhy_34s-py3.12",
   "language": "python",
   "name": "python3"
  },
  "language_info": {
   "codemirror_mode": {
    "name": "ipython",
    "version": 3
   },
   "file_extension": ".py",
   "mimetype": "text/x-python",
   "name": "python",
   "nbconvert_exporter": "python",
   "pygments_lexer": "ipython3",
   "version": "3.12.3"
  }
 },
 "nbformat": 4,
 "nbformat_minor": 2
}
