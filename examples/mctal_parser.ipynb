{
 "cells": [
  {
   "cell_type": "code",
   "execution_count": 1,
   "metadata": {},
   "outputs": [],
   "source": [
    "import mcnpy"
   ]
  },
  {
   "cell_type": "code",
   "execution_count": 2,
   "metadata": {},
   "outputs": [
    {
     "ename": "NameError",
     "evalue": "name 'parse_mcnp_file' is not defined",
     "output_type": "error",
     "traceback": [
      "\u001b[0;31m---------------------------------------------------------------------------\u001b[0m",
      "\u001b[0;31mNameError\u001b[0m                                 Traceback (most recent call last)",
      "Cell \u001b[0;32mIn[2], line 3\u001b[0m\n\u001b[1;32m      1\u001b[0m filename \u001b[38;5;241m=\u001b[39m \u001b[38;5;124m\"\u001b[39m\u001b[38;5;124m/home/MONLEON-JUAN/MCNPy/mcnpy/mctal_files/PWRSphere.m\u001b[39m\u001b[38;5;124m\"\u001b[39m\n\u001b[0;32m----> 3\u001b[0m mctal \u001b[38;5;241m=\u001b[39m \u001b[43mparse_mcnp_file\u001b[49m(filename)\n",
      "\u001b[0;31mNameError\u001b[0m: name 'parse_mcnp_file' is not defined"
     ]
    }
   ],
   "source": [
    "filename = \"/home/MONLEON-JUAN/MCNPy/mcnpy/mctal_files/PWRSphere.m\"\n",
    "\n",
    "mctal = parse_mcnp_file(filename)"
   ]
  },
  {
   "cell_type": "code",
   "execution_count": null,
   "metadata": {},
   "outputs": [],
   "source": [
    "# Print parsed information for verification.\n",
    "print(\"Header Information:\")\n",
    "print(\"  Code Name:\", mctal.code_name)\n",
    "print(\"  Version:\", mctal.ver)\n",
    "print(\"  ProbID:\", mctal.probid)\n",
    "print(\"  KNOD:\", mctal.knod)\n",
    "print(\"  NPS:\", mctal.nps)\n",
    "print(\"  RNR:\", mctal.rnr)\n",
    "print(\"  Problem Identification:\", mctal.problem_id)\n",
    "print(\"  Tally Information:\")\n",
    "print(\"  NTAL:\", mctal.ntal)\n",
    "print(\"  Number of Tallies (n):\", mctal.n)\n",
    "print(\"  NPert:\", mctal.npert)\n",
    "print(\"  Number of Perturbations (m):\", mctal.m)\n",
    "print(\"  Tally Numbers:\", mctal.tally_numbers)"
   ]
  }
 ],
 "metadata": {
  "kernelspec": {
   "display_name": "mcnpy-qKhy_34s-py3.12",
   "language": "python",
   "name": "python3"
  },
  "language_info": {
   "codemirror_mode": {
    "name": "ipython",
    "version": 3
   },
   "file_extension": ".py",
   "mimetype": "text/x-python",
   "name": "python",
   "nbconvert_exporter": "python",
   "pygments_lexer": "ipython3",
   "version": "3.12.3"
  }
 },
 "nbformat": 4,
 "nbformat_minor": 2
}
